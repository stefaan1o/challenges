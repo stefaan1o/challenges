{
 "cells": [
  {
   "cell_type": "code",
   "execution_count": 10,
   "metadata": {
    "collapsed": true,
    "pycharm": {
     "is_executing": false
    }
   },
   "outputs": [],
   "source": [
    "import pandas as pd"
   ]
  },
  {
   "cell_type": "code",
   "execution_count": 11,
   "metadata": {
    "pycharm": {
     "is_executing": false,
     "name": "#%%\n"
    }
   },
   "outputs": [],
   "source": [
    "df = pd.read_csv('movie_metadata.csv',usecols=['director_name','movie_title','title_year','imdb_score'])\n",
    "df['count'] = 1\n",
    "df['count4']=df['count'].groupby(df['director_name']).transform('count')"
   ]
  },
  {
   "cell_type": "code",
   "execution_count": 12,
   "metadata": {
    "pycharm": {
     "is_executing": false,
     "name": "#%%\n"
    }
   },
   "outputs": [],
   "source": [
    "df=df[df['count4']>=4]"
   ]
  },
  {
   "cell_type": "code",
   "execution_count": 13,
   "metadata": {
    "pycharm": {
     "is_executing": false,
     "name": "#%%\n"
    }
   },
   "outputs": [],
   "source": [
    "movie=df[df['title_year'] >= 1960 ].sort_values(by='imdb_score',ascending=False)"
   ]
  },
  {
   "cell_type": "code",
   "execution_count": 14,
   "metadata": {
    "pycharm": {
     "is_executing": false,
     "name": "#%%\n"
    }
   },
   "outputs": [],
   "source": [
    "list=movie.groupby('director_name').agg('imdb_score').mean()"
   ]
  },
  {
   "cell_type": "code",
   "execution_count": 15,
   "metadata": {
    "pycharm": {
     "is_executing": false,
     "name": "#%%\n"
    }
   },
   "outputs": [],
   "source": [
    "list=list.sort_values(ascending=False)"
   ]
  },
  {
   "cell_type": "code",
   "execution_count": 16,
   "metadata": {
    "pycharm": {
     "is_executing": false,
     "name": "#%%\n"
    }
   },
   "outputs": [
    {
     "name": "stdout",
     "output_type": "stream",
     "text": [
      " 0. Sergio Leone                                                           8.5\n",
      "--------------------------------------------------------------------------------\n",
      "1966] The Good, the Bad and the Ugly                                       8.9\n",
      "1968] Once Upon a Time in the West                                         8.6\n",
      "1984] Once Upon a Time in America                                          8.4\n",
      "1964] A Fistful of Dollars                                                 8.0\n",
      "\n",
      " 1. Christopher Nolan                                                      8.4\n",
      "--------------------------------------------------------------------------------\n",
      "2008] The Dark Knight                                                      9.0\n",
      "2010] Inception                                                            8.8\n",
      "2014] Interstellar                                                         8.6\n",
      "2006] The Prestige                                                         8.5\n",
      "2000] Memento                                                              8.5\n",
      "2012] The Dark Knight Rises                                                8.5\n",
      "2005] Batman Begins                                                        8.3\n",
      "2002] Insomnia                                                             7.2\n",
      "\n",
      " 2. Hayao Miyazaki                                                         8.2\n",
      "--------------------------------------------------------------------------------\n",
      "2001] Spirited Away                                                        8.6\n",
      "1997] Princess Mononoke                                                    8.4\n",
      "2004] Howl's Moving Castle                                                 8.2\n",
      "2008] Ponyo                                                                7.7\n",
      "\n",
      " 3. Quentin Tarantino                                                      8.2\n",
      "--------------------------------------------------------------------------------\n",
      "1994] Pulp Fiction                                                         8.9\n",
      "2012] Django Unchained                                                     8.5\n",
      "1992] Reservoir Dogs                                                       8.4\n",
      "2009] Inglourious Basterds                                                 8.3\n",
      "2003] Kill Bill: Vol. 1                                                    8.1\n",
      "2004] Kill Bill: Vol. 2                                                    8.0\n",
      "2015] The Hateful Eight                                                    7.9\n",
      "1997] Jackie Brown                                                         7.5\n",
      "\n",
      " 4. Stanley Kubrick                                                        8.0\n",
      "--------------------------------------------------------------------------------\n",
      "1964] Dr. Strangelove or: How I Learned to Stop Worrying and Love the Bomb  8.5\n",
      "1980] The Shining                                                          8.4\n",
      "1968] 2001: A Space Odyssey                                                8.3\n",
      "1975] Barry Lyndon                                                         8.1\n",
      "1962] Lolita                                                               7.7\n",
      "1962] Lolita                                                               7.7\n",
      "1999] Eyes Wide Shut                                                       7.3\n",
      "\n",
      " 5. Frank Darabont                                                         8.0\n",
      "--------------------------------------------------------------------------------\n",
      "1994] The Shawshank Redemption                                             9.3\n",
      "1999] The Green Mile                                                       8.5\n",
      "2007] The Mist                                                             7.2\n",
      "2001] The Majestic                                                         6.9\n",
      "\n",
      " 6. Richard Brooks                                                         8.0\n",
      "--------------------------------------------------------------------------------\n",
      "1967] In Cold Blood                                                        8.0\n",
      "1960] Elmer Gantry                                                         7.9\n",
      "\n",
      " 7. David Lean                                                             7.9\n",
      "--------------------------------------------------------------------------------\n",
      "1962] Lawrence of Arabia                                                   8.4\n",
      "1965] Doctor Zhivago                                                       8.0\n",
      "1984] A Passage to India                                                   7.4\n",
      "\n",
      " 8. Joss Whedon                                                            7.9\n",
      "--------------------------------------------------------------------------------\n",
      "2012] The Avengers                                                         8.1\n",
      "2012] The Avengers                                                         8.1\n",
      "2005] Serenity                                                             8.0\n",
      "2015] Avengers: Age of Ultron                                              7.5\n",
      "\n",
      " 9. James Cameron                                                          7.9\n",
      "--------------------------------------------------------------------------------\n",
      "1991] Terminator 2: Judgment Day                                           8.5\n",
      "1986] Aliens                                                               8.4\n",
      "1984] The Terminator                                                       8.1\n",
      "2009] Avatar                                                               7.9\n",
      "1997] Titanic                                                              7.7\n",
      "1989] The Abyss                                                            7.6\n",
      "1994] True Lies                                                            7.2\n",
      "\n",
      "10. Billy Wilder                                                           7.8\n",
      "--------------------------------------------------------------------------------\n",
      "1960] The Apartment                                                        8.3\n",
      "1974] The Front Page                                                       7.3\n",
      "\n",
      "11. Alfonso Cuarón                                                         7.8\n",
      "--------------------------------------------------------------------------------\n",
      "2006] Children of Men                                                      7.9\n",
      "2013] Gravity                                                              7.8\n",
      "2004] Harry Potter and the Prisoner of Azkaban                             7.8\n",
      "2001] Y Tu Mamá También                                                    7.7\n",
      "\n",
      "12. Alejandro G. Iñárritu                                                  7.8\n",
      "--------------------------------------------------------------------------------\n",
      "2000] Amores Perros                                                        8.1\n",
      "2015] The Revenant                                                         8.1\n",
      "2014] Birdman or (The Unexpected Virtue of Ignorance)                      7.8\n",
      "2003] 21 Grams                                                             7.7\n",
      "2010] Biutiful                                                             7.5\n",
      "2006] Babel                                                                7.5\n",
      "\n",
      "13. David Fincher                                                          7.8\n",
      "--------------------------------------------------------------------------------\n",
      "1999] Fight Club                                                           8.8\n",
      "1995] Se7en                                                                8.6\n",
      "2014] Gone Girl                                                            8.1\n",
      "2011] The Girl with the Dragon Tattoo                                      7.8\n",
      "2008] The Curious Case of Benjamin Button                                  7.8\n",
      "1997] The Game                                                             7.8\n",
      "2010] The Social Network                                                   7.7\n",
      "2007] Zodiac                                                               7.7\n",
      "2002] Panic Room                                                           6.8\n",
      "1992] Alien 3                                                              6.4\n",
      "\n",
      "14. Peter Weir                                                             7.7\n",
      "--------------------------------------------------------------------------------\n",
      "1998] The Truman Show                                                      8.1\n",
      "1989] Dead Poets Society                                                   8.0\n",
      "2003] Master and Commander: The Far Side of the World                      7.4\n",
      "1985] Witness                                                              7.4\n",
      "\n",
      "15. Peter Jackson                                                          7.7\n",
      "--------------------------------------------------------------------------------\n",
      "2003] The Lord of the Rings: The Return of the King                        8.9\n",
      "2001] The Lord of the Rings: The Fellowship of the Ring                    8.8\n",
      "2002] The Lord of the Rings: The Two Towers                                8.7\n",
      "2013] The Hobbit: The Desolation of Smaug                                  7.9\n",
      "2012] The Hobbit: An Unexpected Journey                                    7.9\n",
      "2014] The Hobbit: The Battle of the Five Armies                            7.5\n",
      "1994] Heavenly Creatures                                                   7.4\n",
      "2005] King Kong                                                            7.2\n",
      "2005] King Kong                                                            7.2\n",
      "2005] King Kong                                                            7.2\n",
      "2009] The Lovely Bones                                                     6.7\n",
      "2009] The Lovely Bones                                                     6.7\n",
      "\n",
      "16. Martin Scorsese                                                        7.7\n",
      "--------------------------------------------------------------------------------\n",
      "1990] Goodfellas                                                           8.7\n",
      "2006] The Departed                                                         8.5\n",
      "1980] Raging Bull                                                          8.3\n",
      "1976] Taxi Driver                                                          8.3\n",
      "1995] Casino                                                               8.2\n",
      "2013] The Wolf of Wall Street                                              8.2\n",
      "1978] The Last Waltz                                                       8.2\n",
      "2010] Shutter Island                                                       8.1\n",
      "1988] The Last Temptation of Christ                                        7.6\n",
      "2011] Hugo                                                                 7.5\n",
      "2004] The Aviator                                                          7.5\n",
      "2002] Gangs of New York                                                    7.5\n",
      "1973] Mean Streets                                                         7.4\n",
      "1991] Cape Fear                                                            7.3\n",
      "1993] The Age of Innocence                                                 7.2\n",
      "2008] Shine a Light                                                        7.2\n",
      "1986] The Color of Money                                                   7.0\n",
      "1997] Kundun                                                               7.0\n",
      "1999] Bringing Out the Dead                                                6.8\n",
      "1977] New York, New York                                                   6.7\n",
      "\n",
      "17. Fred Zinnemann                                                         7.7\n",
      "--------------------------------------------------------------------------------\n",
      "1966] A Man for All Seasons                                                7.9\n",
      "1977] Julia                                                                7.4\n",
      "\n",
      "18. Matthew Vaughn                                                         7.7\n",
      "--------------------------------------------------------------------------------\n",
      "2011] X-Men: First Class                                                   7.8\n",
      "2010] Kick-Ass                                                             7.7\n",
      "2007] Stardust                                                             7.7\n",
      "2004] Layer Cake                                                           7.4\n",
      "\n",
      "19. David Lynch                                                            7.6\n",
      "--------------------------------------------------------------------------------\n",
      "1980] The Elephant Man                                                     8.2\n",
      "2001] Mulholland Drive                                                     8.0\n",
      "1999] The Straight Story                                                   8.0\n",
      "1977] Eraserhead                                                           7.4\n",
      "1984] Dune                                                                 6.6\n",
      "\n"
     ]
    }
   ],
   "source": [
    "for i in range(20):\n",
    "    director_name=list.index[i]\n",
    "    print('{:2d}. {: <70} {:.1f}'.format(i,director_name,list[i]))\n",
    "    print('-'*80)\n",
    "    \n",
    "    df_ = movie[movie['director_name']==director_name]\n",
    "    for index, row in df_.iterrows():\n",
    "        print('{year:.0f}] {name: <68} {score}'.format(year=row['title_year'],name=row['movie_title'],score=row['imdb_score']))\n",
    "    print('')"
   ]
  },
  {
   "cell_type": "code",
   "execution_count": 16,
   "metadata": {
    "pycharm": {
     "is_executing": false,
     "name": "#%%\n"
    }
   },
   "outputs": [],
   "source": []
  },
  {
   "cell_type": "code",
   "execution_count": 16,
   "metadata": {
    "pycharm": {
     "is_executing": false,
     "name": "#%%\n"
    }
   },
   "outputs": [],
   "source": [
    "\n"
   ]
  }
 ],
 "metadata": {
  "kernelspec": {
   "display_name": "Python 3",
   "language": "python",
   "name": "python3"
  },
  "language_info": {
   "codemirror_mode": {
    "name": "ipython",
    "version": 3
   },
   "file_extension": ".py",
   "mimetype": "text/x-python",
   "name": "python",
   "nbconvert_exporter": "python",
   "pygments_lexer": "ipython3",
   "version": "3.7.4"
  },
  "pycharm": {
   "stem_cell": {
    "cell_type": "raw",
    "metadata": {
     "collapsed": false
    },
    "source": []
   }
  }
 },
 "nbformat": 4,
 "nbformat_minor": 1
}
